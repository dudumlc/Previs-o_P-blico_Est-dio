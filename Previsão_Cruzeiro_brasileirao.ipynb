{
 "cells": [
  {
   "cell_type": "markdown",
   "metadata": {},
   "source": [
    "### AJUSTE DO AMBIENTE E IMPORTAÇÃO DE BIBLIOTECAS A SEREM USADAS"
   ]
  },
  {
   "cell_type": "code",
   "execution_count": 1,
   "metadata": {},
   "outputs": [],
   "source": [
    "import warnings\n",
    "warnings.filterwarnings(\"ignore\")"
   ]
  },
  {
   "cell_type": "code",
   "execution_count": 2,
   "metadata": {},
   "outputs": [],
   "source": [
    "import re\n",
    "import requests\n",
    "from bs4 import BeautifulSoup\n",
    "\n",
    "import numpy as np\n",
    "import pandas as pd\n",
    "\n",
    "import seaborn as sns\n",
    "import matplotlib.pyplot as plt\n",
    "\n",
    "from sklearn.metrics import mean_squared_error, r2_score, mean_absolute_error, adjusted_rand_score\n",
    "from sklearn.model_selection import train_test_split, GridSearchCV\n",
    "from skopt import BayesSearchCV\n",
    "\n",
    "from sklearn.linear_model import LinearRegression\n",
    "from sklearn.ensemble import RandomForestRegressor, AdaBoostRegressor, GradientBoostingRegressor\n",
    "from xgboost import XGBRegressor"
   ]
  },
  {
   "cell_type": "markdown",
   "metadata": {},
   "source": [
    "### WEB SCRAPPING DOS DADOS DIRETO DO SITE 'CRUZEIROPEDIA'"
   ]
  },
  {
   "cell_type": "code",
   "execution_count": 3,
   "metadata": {},
   "outputs": [],
   "source": [
    "# faz a requisição HTTP para a página principal\n",
    "response = requests.get('https://cruzeiropedia.org/Categoria:Temporadas')\n",
    "\n",
    "# faz o parsing do HTML da página principal\n",
    "soup = BeautifulSoup(response.content, 'html.parser')"
   ]
  },
  {
   "cell_type": "code",
   "execution_count": 4,
   "metadata": {},
   "outputs": [],
   "source": [
    "# encontra todas as tags <a> que contêm o nome das temporadas (identifica os links) \n",
    "temporadas = soup.find_all('a', {'title': \n",
    "                                 ['Categoria:Temporada 2011',\n",
    "                                  'Categoria:Temporada 2012',\n",
    "                                  'Categoria:Temporada 2013',\n",
    "                                  'Categoria:Temporada 2014',\n",
    "                                  'Categoria:Temporada 2015',\n",
    "                                  'Categoria:Temporada 2016',\n",
    "                                  'Categoria:Temporada 2017', \n",
    "                                  'Categoria:Temporada 2018', \n",
    "                                  'Categoria:Temporada 2019', \n",
    "                                  'Categoria:Temporada 2020', \n",
    "                                  'Categoria:Temporada 2021', \n",
    "                                  'Categoria:Temporada 2022',\n",
    "                                  'Categoria:Temporada 2023']\n",
    "                                  }\n",
    "                                  )"
   ]
  },
  {
   "cell_type": "code",
   "execution_count": 5,
   "metadata": {},
   "outputs": [],
   "source": [
    "# lista para armazenar os dados encontrados\n",
    "anos = []\n",
    "diasSemanas = []\n",
    "datas = []\n",
    "adversarios = []\n",
    "pubPagantes = []\n",
    "pubPresentes = []\n",
    "rendaBrutas = []\n",
    "estadios = []\n",
    "campeonatos = []\n",
    "placares = []\n",
    "horarios = []\n",
    "\n",
    "# 'varre' a lista de temporadas especificada acima\n",
    "for temporada in temporadas:\n",
    "    # obtém o link da temporada\n",
    "    link_temporada = temporada.get('href')\n",
    "    \n",
    "    # faz a requisição HTTP para a página da temporada\n",
    "    response_temporada = requests.get('https://cruzeiropedia.org' + link_temporada)\n",
    "    \n",
    "    # faz o parsing do HTML da página da temporada\n",
    "    soup_temporada = BeautifulSoup(response_temporada.content, 'html.parser')\n",
    "    \n",
    "    # identifica os jogos que o cruzeiro foi mandante na temporada em questão\n",
    "    jogos = soup_temporada.find_all('a', {'title': re.compile(r'(.+) (\\d+)x(\\d+) (.+) - (\\d{2}/\\d{2}/\\d{4})')})\n",
    "\n",
    "    # entra em cada um dos jogos\n",
    "    for jogo in jogos:\n",
    "        # obtém o link do jogo\n",
    "        link_jogos = jogo.get('href')\n",
    "\n",
    "        if \"Slovan\" in link_jogos:\n",
    "            continue\n",
    "\n",
    "        elif \"Tr%C3%ADplice\" in link_jogos:\n",
    "            continue\n",
    "    \n",
    "        # faz a requisição HTTP para a página do jogo\n",
    "        response_jogos = requests.get('https://cruzeiropedia.org' + link_jogos)\n",
    "        # faz o parsing do html da página do jogo\n",
    "        soup_jogos = BeautifulSoup(response_jogos.content, 'html.parser')\n",
    "        # retira a informação do dia da semana e horário\n",
    "        diaSemana = soup_jogos.find('b', string='Data:').next_sibling.strip()\n",
    "        diasSemanas.append(diaSemana)\n",
    "\n",
    "        ano = soup_jogos.find('b', string='Data:').find_next_sibling().find_next_sibling().text.strip()\n",
    "        anos.append(ano)\n",
    "\n",
    "        data = soup_jogos.find('b', string='Data:').find_next_sibling().text.strip()\n",
    "        datas.append(data)\n",
    "\n",
    "        adversario = soup_jogos.find('b', string='Placar').find_next_sibling().find_next_sibling().find_next_sibling().text.strip()\n",
    "        adversarios.append(adversario)\n",
    "\n",
    "        pubPagante = soup_jogos.find('b', string='Público pagante:').next_sibling.strip()\n",
    "        pubPagantes.append(pubPagante)\n",
    "\n",
    "        pubPresente = soup_jogos.find('b', string='Público Presente:').next_sibling.strip()\n",
    "        pubPresentes.append(pubPresente)\n",
    "\n",
    "        rendaBruta = soup_jogos.find('b', string='Renda Bruta:').next_sibling.strip()\n",
    "        rendaBrutas.append(rendaBruta)\n",
    "\n",
    "        estadio = soup_jogos.find('b', string='Estádio:').find_next_sibling().text.strip()\n",
    "        estadios.append(estadio)\n",
    "        \n",
    "        campeonato = soup_jogos.find('div', class_='divFichaSessao')\n",
    "        campeonato_element = campeonato.find('b')\n",
    "        campeonato_element_title = campeonato_element.text.strip()\n",
    "        campeonatos.append(campeonato_element_title)\n",
    "\n",
    "        placar_element = soup_jogos.find('div', class_='divFicha')\n",
    "        placar = placar_element.find('b').text\n",
    "        placares.append(placar)\n",
    "\n",
    "        horario = soup_jogos.find('b', string='Data:').find_next_sibling().find_next_sibling().next_sibling.strip()\n",
    "        horarios.append(horario)\n",
    "\n"
   ]
  },
  {
   "cell_type": "markdown",
   "metadata": {},
   "source": [
    "### ESTRUTURAÇÃO DOS DADOS COLETADOS EM DATAFRAME + PRÉ-VISUALIZAÇÃO DOS DADOS"
   ]
  },
  {
   "cell_type": "code",
   "execution_count": null,
   "metadata": {},
   "outputs": [],
   "source": [
    "# ESTRUTURANDO OS DADOS CAPTURADOS EM UM DATAFRAME\n",
    "\n",
    "df_raw = pd.DataFrame({'visitante':adversarios,\n",
    "                       'ano': anos,\n",
    "                       'dia da semana': diasSemanas,\n",
    "                       'data': datas,\n",
    "                       'publico presente': pubPresentes,\n",
    "                       'publico pagante':pubPagantes,\n",
    "                       'renda bruta': rendaBrutas,\n",
    "                       'estadio':estadios,\n",
    "                       'campeonato':campeonatos,\n",
    "                       'placar':placares,\n",
    "                       'horario':horarios})\n",
    "df = df_raw.copy()"
   ]
  },
  {
   "cell_type": "code",
   "execution_count": null,
   "metadata": {},
   "outputs": [],
   "source": [
    "# Salvando em um excel para evitar de ter que rodar o web scrapping inteiro toda vez que for trabalhar \n",
    "\n",
    "df_raw.to_excel(\"C:\\\\Users\\\\Pichau\\\\Desktop\\\\datasets usados\\\\Dataset Cruzeiro\\\\Cruzeiro.xlsx\", index=False)"
   ]
  },
  {
   "cell_type": "code",
   "execution_count": 45,
   "metadata": {},
   "outputs": [],
   "source": [
    "df_raw = pd.read_excel(\"C:\\\\Users\\\\Dudu_\\\\OneDrive\\\\Documentos\\\\Estudos\\\\0. Datasets Usados\\\\Dataset Cruzeiro\\\\Cruzeiro.xlsx\")\n",
    "\n",
    "df = df_raw.copy()"
   ]
  },
  {
   "cell_type": "code",
   "execution_count": 46,
   "metadata": {},
   "outputs": [
    {
     "data": {
      "text/html": [
       "<div>\n",
       "<style scoped>\n",
       "    .dataframe tbody tr th:only-of-type {\n",
       "        vertical-align: middle;\n",
       "    }\n",
       "\n",
       "    .dataframe tbody tr th {\n",
       "        vertical-align: top;\n",
       "    }\n",
       "\n",
       "    .dataframe thead th {\n",
       "        text-align: right;\n",
       "    }\n",
       "</style>\n",
       "<table border=\"1\" class=\"dataframe\">\n",
       "  <thead>\n",
       "    <tr style=\"text-align: right;\">\n",
       "      <th></th>\n",
       "      <th>visitante</th>\n",
       "      <th>ano</th>\n",
       "      <th>dia da semana</th>\n",
       "      <th>data</th>\n",
       "      <th>publico presente</th>\n",
       "      <th>publico pagante</th>\n",
       "      <th>renda bruta</th>\n",
       "      <th>estadio</th>\n",
       "      <th>campeonato</th>\n",
       "      <th>placar</th>\n",
       "      <th>horario</th>\n",
       "    </tr>\n",
       "  </thead>\n",
       "  <tbody>\n",
       "    <tr>\n",
       "      <th>822</th>\n",
       "      <td>Cruzeiro</td>\n",
       "      <td>2023</td>\n",
       "      <td>sábado,</td>\n",
       "      <td>18 de novembro</td>\n",
       "      <td>30.804</td>\n",
       "      <td>30.144</td>\n",
       "      <td>R$ 328.787,00</td>\n",
       "      <td>Castelão-CE</td>\n",
       "      <td>30ª rodada do Campeonato Brasileiro 2023</td>\n",
       "      <td>0 × 1</td>\n",
       "      <td>às 18:30</td>\n",
       "    </tr>\n",
       "    <tr>\n",
       "      <th>823</th>\n",
       "      <td>Vasco</td>\n",
       "      <td>2023</td>\n",
       "      <td>quarta-feira,</td>\n",
       "      <td>22 de novembro</td>\n",
       "      <td>0</td>\n",
       "      <td>0</td>\n",
       "      <td>R$ 0,00</td>\n",
       "      <td>Mineirão</td>\n",
       "      <td>33ª rodada do Campeonato Brasileiro 2023</td>\n",
       "      <td>2 × 2</td>\n",
       "      <td>às 19:00</td>\n",
       "    </tr>\n",
       "    <tr>\n",
       "      <th>824</th>\n",
       "      <td>Cruzeiro</td>\n",
       "      <td>2023</td>\n",
       "      <td>segunda-feira,</td>\n",
       "      <td>27 de novembro</td>\n",
       "      <td>9.143</td>\n",
       "      <td>6.463</td>\n",
       "      <td>R$ 178.900,00</td>\n",
       "      <td>Serrinha</td>\n",
       "      <td>35ª rodada do Campeonato Brasileiro 2023</td>\n",
       "      <td>0 × 1</td>\n",
       "      <td>às 20:00</td>\n",
       "    </tr>\n",
       "    <tr>\n",
       "      <th>825</th>\n",
       "      <td>Athletico</td>\n",
       "      <td>2023</td>\n",
       "      <td>quinta-feira,</td>\n",
       "      <td>30 de novembro</td>\n",
       "      <td>36.696</td>\n",
       "      <td>33.805 (13.815 sócios)</td>\n",
       "      <td>R$ 1.519.277,50</td>\n",
       "      <td>Mineirão</td>\n",
       "      <td>36ª rodada do Campeonato Brasileiro 2023</td>\n",
       "      <td>1 × 1</td>\n",
       "      <td>às 20:00</td>\n",
       "    </tr>\n",
       "    <tr>\n",
       "      <th>826</th>\n",
       "      <td>Cruzeiro</td>\n",
       "      <td>2023</td>\n",
       "      <td>domingo,</td>\n",
       "      <td>3 de dezembro</td>\n",
       "      <td>Não disponível</td>\n",
       "      <td>Não disponível</td>\n",
       "      <td>Não informado</td>\n",
       "      <td>Nilton Santos</td>\n",
       "      <td>37ª rodada do Campeonato Brasileiro 2023</td>\n",
       "      <td>0 × 0</td>\n",
       "      <td>às 18:30</td>\n",
       "    </tr>\n",
       "  </tbody>\n",
       "</table>\n",
       "</div>"
      ],
      "text/plain": [
       "     visitante   ano   dia da semana            data publico presente  \\\n",
       "822   Cruzeiro  2023         sábado,  18 de novembro           30.804   \n",
       "823      Vasco  2023   quarta-feira,  22 de novembro                0   \n",
       "824   Cruzeiro  2023  segunda-feira,  27 de novembro            9.143   \n",
       "825  Athletico  2023   quinta-feira,  30 de novembro           36.696   \n",
       "826   Cruzeiro  2023        domingo,   3 de dezembro   Não disponível   \n",
       "\n",
       "            publico pagante      renda bruta        estadio  \\\n",
       "822                  30.144    R$ 328.787,00    Castelão-CE   \n",
       "823                       0          R$ 0,00       Mineirão   \n",
       "824                   6.463    R$ 178.900,00       Serrinha   \n",
       "825  33.805 (13.815 sócios)  R$ 1.519.277,50       Mineirão   \n",
       "826          Não disponível    Não informado  Nilton Santos   \n",
       "\n",
       "                                   campeonato placar   horario  \n",
       "822  30ª rodada do Campeonato Brasileiro 2023  0 × 1  às 18:30  \n",
       "823  33ª rodada do Campeonato Brasileiro 2023  2 × 2  às 19:00  \n",
       "824  35ª rodada do Campeonato Brasileiro 2023  0 × 1  às 20:00  \n",
       "825  36ª rodada do Campeonato Brasileiro 2023  1 × 1  às 20:00  \n",
       "826  37ª rodada do Campeonato Brasileiro 2023  0 × 0  às 18:30  "
      ]
     },
     "execution_count": 46,
     "metadata": {},
     "output_type": "execute_result"
    }
   ],
   "source": [
    "# Análise da cauda final do df para ver se o script deu certo e se são os jogos mais recentes mesmo\n",
    "df.tail(5)"
   ]
  },
  {
   "cell_type": "markdown",
   "metadata": {},
   "source": [
    "### FILTRANDO APENAS CAMPEONATO BRASILEIRO - AMOSTRA A SER TRABALHADA"
   ]
  },
  {
   "cell_type": "code",
   "execution_count": 47,
   "metadata": {},
   "outputs": [],
   "source": [
    "# AJUSTANDO OS NOMES DOS CAMPEONATOS\n",
    "camp_ajustado = []\n",
    "for i in range(0,len(df)):\n",
    "    if \"Mineiro\" in df['campeonato'][i]:\n",
    "        camp_ajustado.append('Campeonato Mineiro')\n",
    "    elif \"Libertadores\" in df['campeonato'][i]:\n",
    "        camp_ajustado.append('Libertadores')\n",
    "    elif \"Amistoso\" in df['campeonato'][i]:\n",
    "        camp_ajustado.append('Amistoso')\n",
    "    elif \"Copa do Brasil\" in df['campeonato'][i]:\n",
    "        camp_ajustado.append('Copa do Brasil')\n",
    "    elif \"Brasileiro\" in df['campeonato'][i]:\n",
    "        camp_ajustado.append('Brasileirão')\n",
    "    elif \"Primeira Liga\" in df['campeonato'][i]:\n",
    "        camp_ajustado.append('Primeira Liga')\n",
    "    elif \"Sul-Americana\" in df['campeonato'][i]:\n",
    "        camp_ajustado.append('Sul-Americana')\n",
    "    elif \"Inconfidência\" in df['campeonato'][i]:\n",
    "        camp_ajustado.append('Inconfidência')\n",
    "    elif \"2ª rodada - 1ª fase da Copa Sul-Minas-Rio 2016\" in df['campeonato'][i]:\n",
    "        camp_ajustado.append('Copa Sul-Minas-Rio')\n",
    "    else:\n",
    "        camp_ajustado.append('nao')\n",
    "\n",
    "df['camp_ajustado'] = camp_ajustado"
   ]
  },
  {
   "cell_type": "code",
   "execution_count": null,
   "metadata": {},
   "outputs": [],
   "source": [
    "# CONFERINDO OS NOMES DOS CAMPEONATOS - HÁ ERROS NOS AMISTOSOS\n",
    "for i in df['camp_ajustado'].unique():\n",
    "    display(df[df['camp_ajustado'] == i])"
   ]
  },
  {
   "cell_type": "code",
   "execution_count": 49,
   "metadata": {},
   "outputs": [],
   "source": [
    "# AJUSTANDO MANUALMENTE OS ERROS NOS AMISTOSOS\n",
    "df.loc[159, 'camp_ajustado'] = 'Copa-Sul-Minas-Rio'\n",
    "df.loc[161, 'camp_ajustado'] = 'Copa-Sul-Minas-Rio'"
   ]
  },
  {
   "cell_type": "code",
   "execution_count": 50,
   "metadata": {},
   "outputs": [],
   "source": [
    "# FILTRANDO APENAS BRASILEIRAO\n",
    "df = df[df['camp_ajustado'] == \"Brasileirão\"].reset_index(drop='index')"
   ]
  },
  {
   "cell_type": "markdown",
   "metadata": {},
   "source": [
    "### DATA WRANGLING"
   ]
  },
  {
   "cell_type": "code",
   "execution_count": 51,
   "metadata": {},
   "outputs": [],
   "source": [
    "# RETIRADA DA VÍRGULA NO FINAL DO DIA DA SEMANA\n",
    "df['dia da semana'] = df['dia da semana'].str[:-1]\n",
    "\n",
    "# SEPARAÇÃO DA COLUNA DATA EM DIA E MÊS\n",
    "df[['dia do mes', 'mes']] = df['data'].str.split(' de ', expand= True)\n",
    "\n",
    "# RETIRADA DO R$ NO RENDA BRUTA\n",
    "df['renda bruta'] = df['renda bruta'].str.slice(start=2)\n",
    "\n",
    "#RETIRADA DOS PARÊNTESES COM AS INFOS DOS SÓCIOS DO PUB PAGANTE \n",
    "df[['publico pagante','erro1','erro2']] = df['publico pagante'].str.split(' ',expand=True)\n",
    "\n",
    "# AJUSTE DA COLUNA DE HORÁRIO - RETIRADA DA STRING ÀS E DOS :/;\n",
    "df['horario'] = df['horario'].str.slice(start=3)\n",
    "df['horario'] = df['horario'].str.replace(';',':')\n",
    "df['horario'] = df['horario'].str.replace(':','')\n",
    "\n",
    "#RETIRANDO AS COLUNAS CRIADAS APENAS PARA RETIRADA DOS SÓCIOS\n",
    "df.drop(columns=['erro1','erro2'],inplace=True)\n",
    "\n",
    "# CONSERTANDO OS SEPARADORES NÚMERICOS (, E .) DAS COLUNAS NUMÉRICAS\n",
    "for i in range(0,len(df)):\n",
    "    df['renda bruta'][i] = df['renda bruta'][i].replace('.','')\n",
    "    df['renda bruta'][i] = df['renda bruta'][i].replace(',','.')\n",
    "    df['publico presente'][i] = df['publico presente'][i].replace('.','')\n",
    "    df['publico pagante'][i] = df['publico pagante'][i].replace('.','')\n",
    "\n",
    "# AJUSTANDO A COLUNA DE PLACAR E CRIANDO UMA NOVA PARA ANLALISAR VITÓRIA\n",
    "df[['golsMandante','golsVisitante']] = df['placar'].str.split(' × ',expand=True)\n",
    "df['pontosAlcancados'] = None\n",
    "for i in range(0,len(df)):\n",
    "    if df['golsMandante'][i] == df['golsVisitante'][i]:\n",
    "        df['pontosAlcancados'][i] = 1\n",
    "\n",
    "    elif df['golsMandante'][i] > df['golsVisitante'][i] and df['visitante'][i] == 'Cruzeiro':\n",
    "        df['pontosAlcancados'][i] = 0\n",
    "\n",
    "    elif df['golsMandante'][i] > df['golsVisitante'][i] and df['visitante'][i] != 'Cruzeiro':\n",
    "        df['pontosAlcancados'][i] = 3\n",
    "\n",
    "    elif df['golsMandante'][i] < df['golsVisitante'][i] and df['visitante'][i] == 'Cruzeiro':\n",
    "        df['pontosAlcancados'][i] = 3\n",
    "\n",
    "    elif df['golsMandante'][i] < df['golsVisitante'][i] and df['visitante'][i] != 'Cruzeiro':\n",
    "        df['pontosAlcancados'][i] = 0\n",
    "\n",
    "# CRIANDO UMA NOVA COLUNA COM O RESULTADO DO JOGO\n",
    "df['resultado'] = None\n",
    "for i in range(0,len(df)):\n",
    "    if df['pontosAlcancados'][i] == 0:\n",
    "        df['resultado'][i] = \"Derrota\"\n",
    "    elif df['pontosAlcancados'][i] == 1:\n",
    "        df['resultado'][i] = \"Empate\"\n",
    "    elif df['pontosAlcancados'][i] == 3:\n",
    "        df['resultado'][i] = \"Vitoria\"\n",
    "    else:\n",
    "        df['resultado'][i] = \"Erro\"\n",
    "\n",
    "# CRIANDO NOVA COLUNA DE APROVEITAMENTO\n",
    "\n",
    "df['aproveitamento_geral_previo'] = None\n",
    "\n",
    "indice_primeiro_jogo_do_ano = 0\n",
    "ano_em_questao = None\n",
    "\n",
    "for i,v in enumerate(range(0,len(df))):\n",
    "    if i == 0:\n",
    "        df['aproveitamento_geral_previo'][i] = 0\n",
    "        ano_em_questao = df['ano'][i]  \n",
    "\n",
    "    elif df['ano'][i] != df['ano'][i-1]:\n",
    "        df['aproveitamento_geral_previo'][i] = 0\n",
    "        indice_primeiro_jogo_do_ano = i\n",
    "        ano_em_questao = df['ano'][i]\n",
    "\n",
    "    else:\n",
    "        df['aproveitamento_geral_previo'][i] = df[(df.index < i)&(df['ano'] == ano_em_questao)]['pontosAlcancados'].sum()/((i-indice_primeiro_jogo_do_ano)*3)\n",
    "\n",
    "# CRIANDO COLUNA DE JOGOS DE INVENCIBILIDADE\n",
    "\n",
    "df['sequencia_invencibilidade_previa'] = None\n",
    "seq_teste = 0\n",
    "for i,v in enumerate(range(0,len(df))):\n",
    "    if i == 0:\n",
    "        df['sequencia_invencibilidade_previa'][i] = 0\n",
    "    elif df['ano'][i] != df['ano'][i-1]:\n",
    "        df['sequencia_invencibilidade_previa'][i] = 0\n",
    "    elif df['resultado'][i-1] == 'Vitoria':\n",
    "        seq_teste += 1\n",
    "        df['sequencia_invencibilidade_previa'][i] = seq_teste\n",
    "    elif df['resultado'][i-1] == 'Empate':\n",
    "        seq_teste += 1\n",
    "        df['sequencia_invencibilidade_previa'][i] = seq_teste\n",
    "    else:\n",
    "        seq_teste = 0\n",
    "        df['sequencia_invencibilidade_previa'][i] = 0\n",
    "\n",
    "# CRINDO UMA VARIÁVEL DUMMY INDICANDO SE TRATA DO PRIMEIRO JOGO DA TEMPORADA\n",
    "df['estreia'] = None\n",
    "for i,v in enumerate(range(0,len(df))):\n",
    "    if i == 0:\n",
    "        df['estreia'][i] = 1\n",
    "    elif df['ano'][i] != df['ano'][i-1]:\n",
    "        df['estreia'][i] = 1\n",
    "    else:\n",
    "        df['estreia'][i] = 0\n",
    "\n",
    "# CRINDO UMA VARIÁVEL DUMMY INDICANDO SE É CLASSICO\n",
    "df['classico'] = None\n",
    "for i,v in enumerate(range(0,len(df))):\n",
    "    if df['visitante'][i] == \"Atlético-MG\":\n",
    "        df['classico'][i] = 1\n",
    "    else:\n",
    "        df['classico'][i] = 0"
   ]
  },
  {
   "cell_type": "markdown",
   "metadata": {},
   "source": [
    "### DATA CLEANING"
   ]
  },
  {
   "cell_type": "code",
   "execution_count": 52,
   "metadata": {},
   "outputs": [
    {
     "data": {
      "text/plain": [
       "0"
      ]
     },
     "execution_count": 52,
     "metadata": {},
     "output_type": "execute_result"
    }
   ],
   "source": [
    "# CONFERINDO LINHAS DUPLICADAS\n",
    "df.duplicated().sum()"
   ]
  },
  {
   "cell_type": "code",
   "execution_count": 53,
   "metadata": {},
   "outputs": [
    {
     "data": {
      "text/plain": [
       "visitante                           0\n",
       "ano                                 0\n",
       "dia da semana                       0\n",
       "data                                0\n",
       "publico presente                    0\n",
       "publico pagante                     0\n",
       "renda bruta                         0\n",
       "estadio                             0\n",
       "campeonato                          0\n",
       "placar                              0\n",
       "horario                             0\n",
       "camp_ajustado                       0\n",
       "dia do mes                          0\n",
       "mes                                 0\n",
       "golsMandante                        0\n",
       "golsVisitante                       0\n",
       "pontosAlcancados                    0\n",
       "resultado                           0\n",
       "aproveitamento_geral_previo         0\n",
       "sequencia_invencibilidade_previa    0\n",
       "estreia                             0\n",
       "classico                            0\n",
       "dtype: int64"
      ]
     },
     "execution_count": 53,
     "metadata": {},
     "output_type": "execute_result"
    }
   ],
   "source": [
    "# CONFERINDO LINHAS NULAS\n",
    "df.isnull().sum()"
   ]
  },
  {
   "cell_type": "code",
   "execution_count": 54,
   "metadata": {},
   "outputs": [
    {
     "data": {
      "text/plain": [
       "array(['1600', '1830', '2100', '1930', '2200', '1800', '2030', '2150',\n",
       "       '1700', '1900', '1620', '15h', '1100', '2145', '2000', '1630',\n",
       "       '1915', '2130', '2015', '1815', '190', '19h', '16h'], dtype=object)"
      ]
     },
     "execution_count": 54,
     "metadata": {},
     "output_type": "execute_result"
    }
   ],
   "source": [
    "# CONFERINDO FORMATOS DE ESCRITA DISTINTOS NA COLUNA DE HORARIO\n",
    "df['horario'].unique()"
   ]
  },
  {
   "cell_type": "code",
   "execution_count": 55,
   "metadata": {},
   "outputs": [],
   "source": [
    "# FORMATANDO CADA UM DOS REGISTROS INCOERENTES\n",
    "for i,v in enumerate(df['horario']):\n",
    "    if v == '190' or v == '19h':\n",
    "        df['horario'][i] = '1900'\n",
    "    if v == '16h':\n",
    "        df['horario'][i] = '1600'\n",
    "    if v == '15h':\n",
    "        df['horario'][i] = '1500'\n",
    "    else:\n",
    "        continue"
   ]
  },
  {
   "cell_type": "code",
   "execution_count": 56,
   "metadata": {},
   "outputs": [
    {
     "data": {
      "text/plain": [
       "array(['1600', '1830', '2100', '1930', '2200', '1800', '2030', '2150',\n",
       "       '1700', '1900', '1620', '1500', '1100', '2145', '2000', '1630',\n",
       "       '1915', '2130', '2015', '1815'], dtype=object)"
      ]
     },
     "execution_count": 56,
     "metadata": {},
     "output_type": "execute_result"
    }
   ],
   "source": [
    "# NOVOS VALORES DE HORARIOS\n",
    "df['horario'].unique()"
   ]
  },
  {
   "cell_type": "code",
   "execution_count": 57,
   "metadata": {},
   "outputs": [],
   "source": [
    "# COLOCANDO O NOME ANTIGO E O NOVO NOME DA ARENA JACARÉ DA MESMA FORMA. TRATAM-SE DO MESMO ESTÁDIO\n",
    "\n",
    "df['estadio'] = df['estadio'].replace('Arena Buser','Arena do Jacaré')"
   ]
  },
  {
   "cell_type": "markdown",
   "metadata": {},
   "source": [
    "EXPLICAÇÃO DO REMOÇÃO DE ALGUMAS COLUNAS \n",
    "\n",
    ">>PUBLICO PRESENTE -> dados muito poluídos, com alguns registros de \"não disponível\".  \n",
    ">>CAMPEONATO e CAMP_AJUSTADO -> como trata-se apenas de brasileirão não faz sentido mantê-las  \n",
    ">>PLACAR -> a coluna placar foi segregada entre as colunas de golsCruzeiro e golsAdversario  \n",
    ">>DATA -> coluna foi desmembrada e não faz mais sentido mantê-la  \n",
    ">>ANO -> usada apenas como regra para novas variáveis. Sem usabilidade e sem sentido  \n",
    ">>golsMandante, golsVisitante, pontosAlcancados e resultados -> informações usadas apenas para criar regras de novas colunas criadas. São informações que não são conhecidas no momento da predição e por isso não servem como variáveis x  \n",
    ">>RENDA BRUTA -> vazaria dados. "
   ]
  },
  {
   "cell_type": "code",
   "execution_count": 58,
   "metadata": {},
   "outputs": [],
   "source": [
    "# RETIRANDO COLUNAS NÃO UTILIZADAS\n",
    "\n",
    "colunas_excluidas = ['publico presente','placar','data','campeonato','camp_ajustado','golsMandante','golsVisitante','pontosAlcancados','resultado','renda bruta']\n",
    "\n",
    "df = df.drop(columns=colunas_excluidas)"
   ]
  },
  {
   "cell_type": "markdown",
   "metadata": {},
   "source": [
    "### DATA PREPARATION"
   ]
  },
  {
   "cell_type": "code",
   "execution_count": 59,
   "metadata": {},
   "outputs": [],
   "source": [
    "# MANTENDO APENAS OS REGISTROS DO CRUZEIRO COMO MANDANTE\n",
    "df = df[df['visitante'] != \"Cruzeiro\"].reset_index(drop='index')"
   ]
  },
  {
   "cell_type": "code",
   "execution_count": 60,
   "metadata": {},
   "outputs": [],
   "source": [
    "# ALTERANDO OS NOMES DOS MESES PARA NÚMEROS\n",
    "meses_para_numeros ={\n",
    "                     'janeiro': 1,\n",
    "                     'fevereiro': 2,\n",
    "                     'março': 3,\n",
    "                     'abril': 4,\n",
    "                     'maio': 5,\n",
    "                     'junho': 6,\n",
    "                     'julho': 7,\n",
    "                     'agosto': 8,\n",
    "                     'setembro': 9,\n",
    "                     'outubro': 10,\n",
    "                     'novembro': 11,\n",
    "                     'dezembro': 12\n",
    "                    }\n",
    "\n",
    "df['mes'] = df['mes'].map(meses_para_numeros)"
   ]
  },
  {
   "cell_type": "code",
   "execution_count": 61,
   "metadata": {},
   "outputs": [
    {
     "data": {
      "text/plain": [
       "visitante                           object\n",
       "ano                                  int64\n",
       "dia da semana                       object\n",
       "publico pagante                     object\n",
       "estadio                             object\n",
       "horario                             object\n",
       "dia do mes                          object\n",
       "mes                                  int64\n",
       "aproveitamento_geral_previo         object\n",
       "sequencia_invencibilidade_previa    object\n",
       "estreia                             object\n",
       "classico                            object\n",
       "dtype: object"
      ]
     },
     "execution_count": 61,
     "metadata": {},
     "output_type": "execute_result"
    }
   ],
   "source": [
    "# CONFERINDO TIPO DE DADOS PARA MANUTENÇÃO\n",
    "df.dtypes"
   ]
  },
  {
   "cell_type": "code",
   "execution_count": 62,
   "metadata": {},
   "outputs": [],
   "source": [
    "# ALTERANDO O TIPO DE DADOS DE CADA COLUNA UMA A UMA PARA FACILITAR A IDENTIFICAÇÃO\n",
    "\n",
    "df['visitante'] = df['visitante'].astype('category')                         \n",
    "df['dia da semana'] = df['dia da semana'].astype('category')                                                  \n",
    "df['publico pagante']= df['publico pagante'].astype('float')                               \n",
    "df['estadio'] = df['estadio'].astype('category')                                                             \n",
    "df['dia do mes'] = df['dia do mes'].astype(int)                   \n",
    "df['mes'] = df['mes'].astype(int)\n",
    "df['ano'] = df['ano'].astype(int)                                                           \n",
    "df['aproveitamento_geral_previo'] = df['aproveitamento_geral_previo'].astype('float')               \n",
    "df['sequencia_invencibilidade_previa'] = df['sequencia_invencibilidade_previa'].astype(int)    \n",
    "df['estreia'] = df['estreia'].astype(int)\n",
    "df['classico'] = df['classico'].astype(int)\n",
    "df['horario'] = df['horario'].astype(int)"
   ]
  },
  {
   "cell_type": "code",
   "execution_count": 63,
   "metadata": {},
   "outputs": [
    {
     "data": {
      "text/plain": [
       "visitante                           category\n",
       "ano                                    int32\n",
       "dia da semana                       category\n",
       "publico pagante                      float64\n",
       "estadio                             category\n",
       "horario                                int32\n",
       "dia do mes                             int32\n",
       "mes                                    int32\n",
       "aproveitamento_geral_previo          float64\n",
       "sequencia_invencibilidade_previa       int32\n",
       "estreia                                int32\n",
       "classico                               int32\n",
       "dtype: object"
      ]
     },
     "execution_count": 63,
     "metadata": {},
     "output_type": "execute_result"
    }
   ],
   "source": [
    "# NOVOS TIPOS DE DADOS\n",
    "df.dtypes"
   ]
  },
  {
   "cell_type": "code",
   "execution_count": 64,
   "metadata": {},
   "outputs": [
    {
     "data": {
      "text/html": [
       "<div>\n",
       "<style scoped>\n",
       "    .dataframe tbody tr th:only-of-type {\n",
       "        vertical-align: middle;\n",
       "    }\n",
       "\n",
       "    .dataframe tbody tr th {\n",
       "        vertical-align: top;\n",
       "    }\n",
       "\n",
       "    .dataframe thead th {\n",
       "        text-align: right;\n",
       "    }\n",
       "</style>\n",
       "<table border=\"1\" class=\"dataframe\">\n",
       "  <thead>\n",
       "    <tr style=\"text-align: right;\">\n",
       "      <th></th>\n",
       "      <th>visitante</th>\n",
       "      <th>ano</th>\n",
       "      <th>dia da semana</th>\n",
       "      <th>publico pagante</th>\n",
       "      <th>estadio</th>\n",
       "      <th>horario</th>\n",
       "      <th>dia do mes</th>\n",
       "      <th>mes</th>\n",
       "      <th>aproveitamento_geral_previo</th>\n",
       "      <th>sequencia_invencibilidade_previa</th>\n",
       "      <th>estreia</th>\n",
       "      <th>classico</th>\n",
       "    </tr>\n",
       "  </thead>\n",
       "  <tbody>\n",
       "    <tr>\n",
       "      <th>241</th>\n",
       "      <td>Flamengo</td>\n",
       "      <td>2023</td>\n",
       "      <td>quinta-feira</td>\n",
       "      <td>32647.0</td>\n",
       "      <td>Mineirão</td>\n",
       "      <td>1900</td>\n",
       "      <td>19</td>\n",
       "      <td>10</td>\n",
       "      <td>0.397436</td>\n",
       "      <td>2</td>\n",
       "      <td>0</td>\n",
       "      <td>0</td>\n",
       "    </tr>\n",
       "    <tr>\n",
       "      <th>242</th>\n",
       "      <td>Bahia</td>\n",
       "      <td>2023</td>\n",
       "      <td>quarta-feira</td>\n",
       "      <td>33303.0</td>\n",
       "      <td>Mineirão</td>\n",
       "      <td>2000</td>\n",
       "      <td>25</td>\n",
       "      <td>10</td>\n",
       "      <td>0.404762</td>\n",
       "      <td>1</td>\n",
       "      <td>0</td>\n",
       "      <td>0</td>\n",
       "    </tr>\n",
       "    <tr>\n",
       "      <th>243</th>\n",
       "      <td>Internacional</td>\n",
       "      <td>2023</td>\n",
       "      <td>domingo</td>\n",
       "      <td>33350.0</td>\n",
       "      <td>Mineirão</td>\n",
       "      <td>1600</td>\n",
       "      <td>5</td>\n",
       "      <td>11</td>\n",
       "      <td>0.411111</td>\n",
       "      <td>0</td>\n",
       "      <td>0</td>\n",
       "      <td>0</td>\n",
       "    </tr>\n",
       "    <tr>\n",
       "      <th>244</th>\n",
       "      <td>Vasco</td>\n",
       "      <td>2023</td>\n",
       "      <td>quarta-feira</td>\n",
       "      <td>0.0</td>\n",
       "      <td>Mineirão</td>\n",
       "      <td>1900</td>\n",
       "      <td>22</td>\n",
       "      <td>11</td>\n",
       "      <td>0.404040</td>\n",
       "      <td>1</td>\n",
       "      <td>0</td>\n",
       "      <td>0</td>\n",
       "    </tr>\n",
       "    <tr>\n",
       "      <th>245</th>\n",
       "      <td>Athletico</td>\n",
       "      <td>2023</td>\n",
       "      <td>quinta-feira</td>\n",
       "      <td>33805.0</td>\n",
       "      <td>Mineirão</td>\n",
       "      <td>2000</td>\n",
       "      <td>30</td>\n",
       "      <td>11</td>\n",
       "      <td>0.419048</td>\n",
       "      <td>3</td>\n",
       "      <td>0</td>\n",
       "      <td>0</td>\n",
       "    </tr>\n",
       "  </tbody>\n",
       "</table>\n",
       "</div>"
      ],
      "text/plain": [
       "         visitante   ano dia da semana  publico pagante   estadio  horario  \\\n",
       "241       Flamengo  2023  quinta-feira          32647.0  Mineirão     1900   \n",
       "242          Bahia  2023  quarta-feira          33303.0  Mineirão     2000   \n",
       "243  Internacional  2023       domingo          33350.0  Mineirão     1600   \n",
       "244          Vasco  2023  quarta-feira              0.0  Mineirão     1900   \n",
       "245      Athletico  2023  quinta-feira          33805.0  Mineirão     2000   \n",
       "\n",
       "     dia do mes  mes  aproveitamento_geral_previo  \\\n",
       "241          19   10                     0.397436   \n",
       "242          25   10                     0.404762   \n",
       "243           5   11                     0.411111   \n",
       "244          22   11                     0.404040   \n",
       "245          30   11                     0.419048   \n",
       "\n",
       "     sequencia_invencibilidade_previa  estreia  classico  \n",
       "241                                 2        0         0  \n",
       "242                                 1        0         0  \n",
       "243                                 0        0         0  \n",
       "244                                 1        0         0  \n",
       "245                                 3        0         0  "
      ]
     },
     "execution_count": 64,
     "metadata": {},
     "output_type": "execute_result"
    }
   ],
   "source": [
    "df.tail()"
   ]
  },
  {
   "cell_type": "markdown",
   "metadata": {},
   "source": [
    "### MODELLING"
   ]
  },
  {
   "cell_type": "markdown",
   "metadata": {},
   "source": [
    "#### TREINAMENTO INICIAL"
   ]
  },
  {
   "cell_type": "code",
   "execution_count": 65,
   "metadata": {},
   "outputs": [],
   "source": [
    "# drop do jogo do vasco - será usado para predição futura por conta da restrição de público que houve no jogo\n",
    "df.drop(244,inplace=True)"
   ]
  },
  {
   "cell_type": "code",
   "execution_count": 66,
   "metadata": {},
   "outputs": [],
   "source": [
    "# RETIRADA DE ALGUMAS FEATURES QUE ESTAVAM PIORANDO A PERFORMANCE DO MODELO\n",
    "df_predict = df.drop(['visitante','dia do mes','estreia'],axis=1)\n",
    "df_final = pd.get_dummies(df_predict)"
   ]
  },
  {
   "cell_type": "code",
   "execution_count": 67,
   "metadata": {},
   "outputs": [],
   "source": [
    "# SEPARAÇÃO DA VARIÁVEL TARGET E VARIÁVEIS PREDITORAS\n",
    "y = df_final['publico pagante']\n",
    "X = df_final.drop('publico pagante',axis=1)"
   ]
  },
  {
   "cell_type": "code",
   "execution_count": 68,
   "metadata": {},
   "outputs": [
    {
     "name": "stdout",
     "output_type": "stream",
     "text": [
      "--------MÉTRICAS XGBOOST--------\n",
      "mae: 5075.545009969859\n",
      "mse: 44370125.96846314\n",
      "rmse: 6661.090448902727\n",
      "r2: 0.7657342401502736\n",
      "r2 ajustado: 0.7536170456752878\n",
      "\n",
      "-----MÉTRICAS RANDOM FOREST-----\n",
      "mae: 4857.999256756758\n",
      "mse: 37460405.55667909\n",
      "rmse: 6120.490630388964\n",
      "r2: 0.8022162394073026\n",
      "r2 ajustado: 0.7919860448938871\n"
     ]
    }
   ],
   "source": [
    "# SPLIT DOS DADOS EM BASE DE TREINO E TESTE\n",
    "X_train, X_test, y_train, y_test = train_test_split(X,y,test_size=0.3,random_state=0)\n",
    "\n",
    "# TREINAMENTO DO MODELO XGBOOST\n",
    "xgb = XGBRegressor(n_estimators = 400, max_depth=25, random_state=200).fit(X_train,y_train)\n",
    "\n",
    "# PREDIÇÃO DO MODELO XGBOOST\n",
    "yxgb = xgb.predict(X_test)\n",
    "\n",
    "# MÉTRICAS DO MODELO XGBOOST\n",
    "mae_xgb = mean_absolute_error(y_test,yxgb)\n",
    "mse_xgb = mean_squared_error(y_test,yxgb)\n",
    "rmse_xgb = np.sqrt(mse_xgb)\n",
    "r2_xgb = r2_score(y_test,yxgb)\n",
    "adj_r2_xgb = 1-(1-r2_xgb)*(len(df)-1)/(len(df)-len(df.columns)-1)\n",
    "\n",
    "# TREINAMENTO DO MODELO RANDOM FOREST\n",
    "rf = RandomForestRegressor(n_estimators= 600, max_depth=25, random_state=200).fit(X_train,y_train)\n",
    "\n",
    "# PREDIÇÃO DO MODELO RANDOM FOREST\n",
    "yrf = rf.predict(X_test)\n",
    "\n",
    "# MÉTRICAS DO MODELO RANDOM FOREST\n",
    "mae_rf = mean_absolute_error(y_test,yrf)\n",
    "mse_rf = mean_squared_error(y_test,yrf)\n",
    "rmse_rf = np.sqrt(mse_rf)\n",
    "r2_rf = r2_score(y_test,yrf)\n",
    "adj_r2_rf = 1-(1-r2_rf)*(len(df)-1)/(len(df)-len(df.columns)-1)\n",
    "\n",
    "# PRINT DAS MÉTRICAS ALCANÇADAS POR CADA MODELO\n",
    "print('--------MÉTRICAS XGBOOST--------')\n",
    "print(f'mae: {mae_xgb}\\nmse: {mse_xgb}\\nrmse: {rmse_xgb}\\nr2: {r2_xgb}\\nr2 ajustado: {adj_r2_xgb}')\n",
    "print('')\n",
    "print('-----MÉTRICAS RANDOM FOREST-----')\n",
    "print(f'mae: {mae_rf}\\nmse: {mse_rf}\\nrmse: {rmse_rf}\\nr2: {r2_rf}\\nr2 ajustado: {adj_r2_rf}')"
   ]
  },
  {
   "cell_type": "code",
   "execution_count": 69,
   "metadata": {},
   "outputs": [
    {
     "name": "stdout",
     "output_type": "stream",
     "text": [
      "-----MÉTRICAS MISTO-----\n",
      "mae: 4543.182281167361\n",
      "mse: 35359825.35364306\n",
      "rmse: 5946.412813927659\n",
      "r2: 0.8133069002212767\n",
      "r2 ajustado: 0.8036503605775497\n"
     ]
    }
   ],
   "source": [
    "# TIRANDO A MÉDIA DAS PREDIÇÕES DE CADA UM DOS MODELOS PARA VER SE O RESULTADO MELHORA (TEOREMA DAS MULTIDÕES)\n",
    "ymisto = (yrf + yxgb)/2\n",
    "\n",
    "mae_misto = mean_absolute_error(y_test,ymisto)\n",
    "mse_misto = mean_squared_error(y_test,ymisto)\n",
    "rmse_misto = np.sqrt(mse_misto)\n",
    "r2_misto = r2_score(y_test,ymisto)\n",
    "adj_r2_misto = 1-(1-r2_misto)*(len(df)-1)/(len(df)-len(df.columns)-1)\n",
    "\n",
    "print('-----MÉTRICAS MISTO-----')\n",
    "print(f'mae: {mae_misto}\\nmse: {mse_misto}\\nrmse: {rmse_misto}\\nr2: {r2_misto}\\nr2 ajustado: {adj_r2_misto}')\n"
   ]
  },
  {
   "cell_type": "markdown",
   "metadata": {},
   "source": [
    "#### OTIMIZAÇÃO DOS MODELOS"
   ]
  },
  {
   "cell_type": "markdown",
   "metadata": {},
   "source": [
    "> GRIDSEARCHCV - XGBOOST"
   ]
  },
  {
   "cell_type": "code",
   "execution_count": 70,
   "metadata": {},
   "outputs": [
    {
     "name": "stdout",
     "output_type": "stream",
     "text": [
      "Melhores hiperparâmetros: {'colsample_bytree': 0.9, 'learning_rate': 0.1, 'max_depth': 4, 'min_child_weight': 1, 'n_estimators': 100, 'subsample': 0.8}\n",
      "\n",
      "--------MÉTRICAS XGBOOST OTIMIZADO--------\n",
      "mae: 4800.912086899216\n",
      "mse: 39569140.7546507\n",
      "rmse: 6290.400683156097\n",
      "r2: 0.7910825217832913\n",
      "r2 ajustado: 0.7802764453238064\n"
     ]
    }
   ],
   "source": [
    "# Definição dos parâmetros a serem testados\n",
    "\n",
    "parameters = {\n",
    "    'learning_rate': [0.01, 0.1, 0.2],\n",
    "    'n_estimators': [100, 200, 300],\n",
    "    'max_depth': [3, 4, 5],\n",
    "    'min_child_weight': [1, 2, 3],\n",
    "    'subsample': [0.8, 0.9, 1.0],\n",
    "    'colsample_bytree': [0.8, 0.9, 1.0],\n",
    "}\n",
    "\n",
    "# Inicializando o modelo\n",
    "\n",
    "xgb_model = XGBRegressor()\n",
    "\n",
    "# Encontrando os melhores hiperparâmetros \n",
    "\n",
    "grid_search = GridSearchCV(estimator=xgb_model, param_grid=parameters, scoring='neg_mean_squared_error', cv=5)\n",
    "grid_search.fit(X_train, y_train)\n",
    "\n",
    "# Extraindo a melhor combinação de parâmetros encontrada\n",
    "\n",
    "best_params = grid_search.best_params_\n",
    "print(\"Melhores hiperparâmetros:\", best_params)\n",
    "print('')\n",
    "\n",
    "# Treinando o modelo com os melhores hiperparâmetros\n",
    "\n",
    "grid_xgb = XGBRegressor(**best_params)\n",
    "grid_xgb.fit(X_train, y_train)\n",
    "\n",
    "# Previsão do modelo otimizado\n",
    "\n",
    "y_grid_xgb = grid_xgb.predict(X_test)\n",
    "\n",
    "# Avaliando os resultados\n",
    "\n",
    "mae_grid_xgb = mean_absolute_error(y_test,y_grid_xgb)\n",
    "mse_grid_xgb = mean_squared_error(y_test,y_grid_xgb)\n",
    "rmse_grid_xgb = np.sqrt(mse_grid_xgb)\n",
    "r2_grid_xgb = r2_score(y_test,y_grid_xgb)\n",
    "adj_r2_grid_xgb = 1-(1-r2_grid_xgb)*(len(df)-1)/(len(df)-len(df.columns)-1)\n",
    "\n",
    "print('--------MÉTRICAS XGBOOST OTIMIZADO--------')\n",
    "print(f'mae: {mae_grid_xgb}\\nmse: {mse_grid_xgb}\\nrmse: {rmse_grid_xgb}\\nr2: {r2_grid_xgb}\\nr2 ajustado: {adj_r2_grid_xgb}')"
   ]
  },
  {
   "cell_type": "markdown",
   "metadata": {},
   "source": [
    ">BAYESSEARCHCV - XGBOOST"
   ]
  },
  {
   "cell_type": "code",
   "execution_count": 71,
   "metadata": {},
   "outputs": [
    {
     "name": "stdout",
     "output_type": "stream",
     "text": [
      "--------MÉTRICAS XGBOOST OTIMIZADO--------\n",
      "mae: 5572.000537975415\n",
      "mse: 49953435.37457645\n",
      "rmse: 7067.774428671054\n",
      "r2: 0.7362554367448262\n",
      "r2 ajustado: 0.7226134765764551\n"
     ]
    }
   ],
   "source": [
    "# Inicializando o modelo e definindo os parâmetros a serem testados\n",
    "opt_xgb = BayesSearchCV(\n",
    "                    XGBRegressor(),\n",
    "                    {\n",
    "                    'learning_rate': [0.01, 0.1, 0.2],\n",
    "                    'n_estimators': [100, 200, 300],\n",
    "                    'max_depth': [3, 4, 5],\n",
    "                    'min_child_weight': [1, 2, 3],\n",
    "                    'subsample': [0.8, 0.9, 1.0],\n",
    "                    'colsample_bytree': [0.8, 0.9, 1.0],\n",
    "                    },\n",
    "                    scoring='neg_mean_squared_error',\n",
    "                    cv=5\n",
    "                   )\n",
    "\n",
    "opt_xgb.fit(X_train, y_train)\n",
    "\n",
    "# Extraindo a melhor combinação de parâmetros encontrada\n",
    "best_params_bayes_xgb = opt_xgb.best_params_\n",
    "\n",
    "# Criação dos modelos com os melhores parâmetros encontrados\n",
    "bayes_xgb = XGBRegressor(**best_params_bayes_xgb)\n",
    "\n",
    "# Treinamento do modelo otimizado\n",
    "bayes_xgb.fit(X_train, y_train)\n",
    "\n",
    "# Previsões do modelo otimizado\n",
    "y_bayes_xgb = bayes_xgb.predict(X_test)\n",
    "\n",
    "# Avaliando os resultados\n",
    "\n",
    "mae_bayes_xgb = mean_absolute_error(y_test,y_bayes_xgb)\n",
    "mse_bayes_xgb = mean_squared_error(y_test,y_bayes_xgb)\n",
    "rmse_bayes_xgb = np.sqrt(mse_bayes_xgb)\n",
    "r2_bayes_xgb = r2_score(y_test,y_bayes_xgb)\n",
    "adj_r2_bayes_xgb = 1-(1-r2_bayes_xgb)*(len(df)-1)/(len(df)-len(df.columns)-1)\n",
    "\n",
    "print('--------MÉTRICAS XGBOOST OTIMIZADO--------')\n",
    "print(f'mae: {mae_bayes_xgb}\\nmse: {mse_bayes_xgb}\\nrmse: {rmse_bayes_xgb}\\nr2: {r2_bayes_xgb}\\nr2 ajustado: {adj_r2_bayes_xgb}')"
   ]
  },
  {
   "cell_type": "markdown",
   "metadata": {},
   "source": [
    "> GRIDSEARCHCV - RANDOM FOREST"
   ]
  },
  {
   "cell_type": "code",
   "execution_count": 72,
   "metadata": {},
   "outputs": [
    {
     "name": "stdout",
     "output_type": "stream",
     "text": [
      "Melhores hiperparâmetros: {'bootstrap': False, 'max_depth': 25, 'max_features': 'sqrt', 'min_samples_leaf': 1, 'min_samples_split': 2, 'n_estimators': 550, 'random_state': 200}\n",
      "\n",
      "--------MÉTRICAS RANDOM FOREST OTIMIZADO--------\n",
      "mae: 4980.014643734644\n",
      "mse: 38826134.061647356\n",
      "rmse: 6231.062033204882\n",
      "r2: 0.7950054546961609\n",
      "r2 ajustado: 0.7844022885597555\n"
     ]
    }
   ],
   "source": [
    "# Definição dos parâmetros a serem testados\n",
    "\n",
    "parameters = {\n",
    "    'n_estimators': [500,550,600,650,700],\n",
    "    'max_depth': [20,25,30,35],\n",
    "    'min_samples_split': [2, 5, 10],\n",
    "    'min_samples_leaf': [1, 2, 4],\n",
    "    'max_features': ['auto', 'sqrt', 'log2'],\n",
    "    'bootstrap': [True, False],\n",
    "    'random_state':[200]\n",
    "}\n",
    "\n",
    "# Inicializando o modelo\n",
    "\n",
    "rf_model = RandomForestRegressor()\n",
    "\n",
    "# Encontrando os melhores hiperparâmetros \n",
    "\n",
    "grid_search_rf = GridSearchCV(estimator=rf_model, param_grid=parameters, scoring='neg_mean_squared_error', cv=5)\n",
    "grid_search_rf.fit(X_train, y_train)\n",
    "\n",
    "# Extraindo a melhor combinação de parâmetros encontrada\n",
    "\n",
    "best_params_rf = grid_search_rf.best_params_\n",
    "print(\"Melhores hiperparâmetros:\", best_params_rf)\n",
    "print('')\n",
    "\n",
    "# Treinando o modelo com os melhores hiperparâmetros\n",
    "\n",
    "grid_rf = RandomForestRegressor(**best_params_rf)\n",
    "grid_rf.fit(X_train, y_train)\n",
    "\n",
    "# Previsão do modelo otimizado\n",
    "\n",
    "y_grid_rf = grid_rf.predict(X_test)\n",
    "\n",
    "# Avaliando os resultados\n",
    "\n",
    "mae_grid_rf = mean_absolute_error(y_test,y_grid_rf)\n",
    "mse_grid_rf = mean_squared_error(y_test,y_grid_rf)\n",
    "rmse_grid_rf = np.sqrt(mse_grid_rf)\n",
    "r2_grid_rf = r2_score(y_test,y_grid_rf)\n",
    "adj_r2_grid_rf = 1-(1-r2_grid_rf)*(len(df)-1)/(len(df)-len(df.columns)-1)\n",
    "\n",
    "print('--------MÉTRICAS RANDOM FOREST OTIMIZADO--------')\n",
    "print(f'mae: {mae_grid_rf}\\nmse: {mse_grid_rf}\\nrmse: {rmse_grid_rf}\\nr2: {r2_grid_rf}\\nr2 ajustado: {adj_r2_grid_rf}')"
   ]
  },
  {
   "cell_type": "markdown",
   "metadata": {},
   "source": [
    "> BAYESSEARCHCV - RANDOM FOREST"
   ]
  },
  {
   "cell_type": "code",
   "execution_count": 73,
   "metadata": {},
   "outputs": [
    {
     "name": "stdout",
     "output_type": "stream",
     "text": [
      "--------MÉTRICAS RANDOM FOREST OTIMIZADO--------\n",
      "mae: 5075.5397716446505\n",
      "mse: 44370049.305884816\n",
      "rmse: 6661.08469439361\n",
      "r2: 0.7657346449139918\n",
      "r2 ajustado: 0.7536174713750603\n"
     ]
    }
   ],
   "source": [
    "# Inicializando o modelo e definindo os parâmetros a serem testados\n",
    "opt_rf = BayesSearchCV(\n",
    "                    RandomForestRegressor(),\n",
    "                    {\n",
    "                     'n_estimators': [500,550,600,650,700],\n",
    "                     'max_depth': [20,25,30,35],\n",
    "                     'min_samples_split': [2, 5, 10],\n",
    "                     'min_samples_leaf': [1, 2, 4],\n",
    "                     'max_features': ['sqrt', 'log2'],\n",
    "                     'bootstrap': [True, False],\n",
    "                     'random_state':[200]\n",
    "                    },\n",
    "                    scoring='neg_mean_squared_error',\n",
    "                    cv=5\n",
    "                   )\n",
    "\n",
    "opt_rf.fit(X_train, y_train)\n",
    "\n",
    "# Extraindo a melhor combinação de parâmetros encontrada\n",
    "best_params_bayes_rf = opt_rf.best_params_\n",
    "\n",
    "# Criação dos modelos com os melhores parâmetros encontrados\n",
    "bayes_rf = XGBRegressor(**best_params_bayes_rf)\n",
    "\n",
    "# Treinamento do modelo otimizado\n",
    "bayes_rf.fit(X_train, y_train)\n",
    "\n",
    "# Faça previsões no conjunto de teste\n",
    "y_bayes_rf = bayes_rf.predict(X_test)\n",
    "\n",
    "# Avaliando os resultados\n",
    "\n",
    "mae_bayes_rf = mean_absolute_error(y_test,y_bayes_rf)\n",
    "mse_bayes_rf = mean_squared_error(y_test,y_bayes_rf)\n",
    "rmse_bayes_rf = np.sqrt(mse_bayes_rf)\n",
    "r2_bayes_rf = r2_score(y_test,y_bayes_rf)\n",
    "adj_r2_bayes_rf = 1-(1-r2_bayes_rf)*(len(df)-1)/(len(df)-len(df.columns)-1)\n",
    "\n",
    "print('--------MÉTRICAS RANDOM FOREST OTIMIZADO--------')\n",
    "print(f'mae: {mae_bayes_rf}\\nmse: {mse_bayes_rf}\\nrmse: {rmse_bayes_rf}\\nr2: {r2_bayes_rf}\\nr2 ajustado: {adj_r2_bayes_rf}')"
   ]
  },
  {
   "cell_type": "code",
   "execution_count": 74,
   "metadata": {},
   "outputs": [
    {
     "name": "stdout",
     "output_type": "stream",
     "text": [
      "-----MÉTRICAS MISTO-----\n",
      "mae: 4726.665250154786\n",
      "mse: 36144667.12717195\n",
      "rmse: 6012.04350675974\n",
      "r2: 0.8091630861025556\n",
      "r2 ajustado: 0.7992922112457912\n"
     ]
    }
   ],
   "source": [
    "# TIRANDO A MÉDIA DAS PREDIÇÕES DE CADA UM DOS MODELOS PARA VER SE O RESULTADO MELHORA\n",
    "ymisto2 = (yrf + y_grid_xgb)/2\n",
    "\n",
    "mae_misto2 = mean_absolute_error(y_test,ymisto2)\n",
    "mse_misto2 = mean_squared_error(y_test,ymisto2)\n",
    "rmse_misto2 = np.sqrt(mse_misto2)\n",
    "r2_misto2 = r2_score(y_test,ymisto2)\n",
    "adj_r2_misto2 = 1-(1-r2_misto2)*(len(df)-1)/(len(df)-len(df.columns)-1)\n",
    "\n",
    "print('-----MÉTRICAS MISTO-----')\n",
    "print(f'mae: {mae_misto2}\\nmse: {mse_misto2}\\nrmse: {rmse_misto2}\\nr2: {r2_misto2}\\nr2 ajustado: {adj_r2_misto2}')\n",
    "\n"
   ]
  },
  {
   "cell_type": "markdown",
   "metadata": {},
   "source": [
    ">> Mesmo com a otimização feita utilizando o GridSearch e o a busca Bayesiana, os resultados encontrados antes da tentativa de otimização foram melhores. Dessa forma, foi decidido manter o modelo da forma inicial."
   ]
  },
  {
   "cell_type": "markdown",
   "metadata": {},
   "source": [
    "### TESTE FINAL"
   ]
  },
  {
   "cell_type": "markdown",
   "metadata": {},
   "source": [
    "#### PREDIÇÃO JOGO DO VASCO - DIA 22/11"
   ]
  },
  {
   "cell_type": "markdown",
   "metadata": {},
   "source": [
    "O jogo do Cruzeiro x Vasco, do dia 22/11, não contou com a presença de torcedores no estádio por conta de uma punição sofrida pelo Cruzeiro (punição decorrente da invasão de torcedores cruzeirenses no jogo da 34ª rodada do Campeonato Brasileiro contra o Coritiba, na Vila Capanema).\n",
    "Por conta disso, foi decidido fazer a previsão com o modelo criado da possível quantidade de público nesse jogo caso a punição não existisse."
   ]
  },
  {
   "cell_type": "code",
   "execution_count": 95,
   "metadata": {},
   "outputs": [
    {
     "name": "stdout",
     "output_type": "stream",
     "text": [
      "A previsão de público para o jogo entre Cruzeiro e Vasco foi de 34337 torcedores.\n"
     ]
    }
   ],
   "source": [
    "# PREDIÇÃO DE PÚBLICO DO JOGO CRUZEIRO X VASCO\n",
    "\n",
    "# DEFININDO OS ATRIBUTOS\n",
    "vasco = np.array([2023,1900,11,0.491120,1,0,False,True,False,False,False,False,False,False,False,False,False,False,False,True,False])\n",
    "\n",
    "# REDIMENSIONANDO A ARRAY PARA FICAR NO FORMATO IDEAL DE ENTRADA NO MODELO\n",
    "vasco = vasco.reshape(1,-1)\n",
    "\n",
    "# PREDIÇÃO DOS DOIS MODELOS \n",
    "yvasco_xgb = xgb.predict(vasco)\n",
    "yvasco_rf = rf.predict(vasco)\n",
    "\n",
    "# MÉDIA DA AVALIAÇÃO DOS DOIS MODELOS PARA ENCONTRAR O RESULTADO FINAL\n",
    "publico_possivel = (yvasco_xgb + yvasco_rf)/2\n",
    "\n",
    "print(f\"A previsão de público para o jogo entre Cruzeiro e Vasco foi de {publico_possivel[0]:.0f} torcedores.\")"
   ]
  }
 ],
 "metadata": {
  "kernelspec": {
   "display_name": "Python 3 (ipykernel)",
   "language": "python",
   "name": "python3"
  },
  "language_info": {
   "codemirror_mode": {
    "name": "ipython",
    "version": 3
   },
   "file_extension": ".py",
   "mimetype": "text/x-python",
   "name": "python",
   "nbconvert_exporter": "python",
   "pygments_lexer": "ipython3",
   "version": "3.11.5"
  }
 },
 "nbformat": 4,
 "nbformat_minor": 2
}
